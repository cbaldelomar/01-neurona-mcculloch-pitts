{
 "cells": [
  {
   "cell_type": "code",
   "execution_count": null,
   "id": "fb54b48b",
   "metadata": {},
   "outputs": [],
   "source": [
    "import sys\n",
    "sys.path.append(\"../libs\")\n",
    "import neuronas\n",
    "import importlib\n",
    "\n",
    "importlib.reload(neuronas)\n",
    "\n",
    "from neuronas import NeuronaMcCullochPittsTodoEnUno, NeuronaMcCullochPittsSencilla"
   ]
  },
  {
   "cell_type": "code",
   "execution_count": 3,
   "id": "12770e70",
   "metadata": {},
   "outputs": [
    {
     "name": "stdout",
     "output_type": "stream",
     "text": [
      "1\n"
     ]
    }
   ],
   "source": [
    "neurona = NeuronaMcCullochPittsTodoEnUno()\n",
    "print(neurona.threshold)"
   ]
  }
 ],
 "metadata": {
  "kernelspec": {
   "display_name": "DL2025",
   "language": "python",
   "name": "python3"
  },
  "language_info": {
   "codemirror_mode": {
    "name": "ipython",
    "version": 3
   },
   "file_extension": ".py",
   "mimetype": "text/x-python",
   "name": "python",
   "nbconvert_exporter": "python",
   "pygments_lexer": "ipython3",
   "version": "3.13.5"
  }
 },
 "nbformat": 4,
 "nbformat_minor": 5
}
