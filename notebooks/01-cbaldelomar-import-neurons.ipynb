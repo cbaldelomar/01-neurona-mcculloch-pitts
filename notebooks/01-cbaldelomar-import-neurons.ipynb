{
 "cells": [
  {
   "cell_type": "code",
   "execution_count": 9,
   "id": "fb54b48b",
   "metadata": {},
   "outputs": [],
   "source": [
    "import sys\n",
    "sys.path.append(\"../libs\")\n",
    "import neuronas\n",
    "import importlib\n",
    "\n",
    "importlib.reload(neuronas)\n",
    "\n",
    "from neuronas import NeuronaMcCullochPittsTodoEnUno, NeuronaMcCullochPittsSencilla"
   ]
  },
  {
   "cell_type": "code",
   "execution_count": 6,
   "id": "12770e70",
   "metadata": {},
   "outputs": [
    {
     "name": "stdout",
     "output_type": "stream",
     "text": [
      "1\n"
     ]
    }
   ],
   "source": [
    "# tiempo libre (1), motivacion (0), suscripcion (1)\n",
    "neurona = NeuronaMcCullochPittsTodoEnUno(1, 1, 0, 0)\n",
    "print(neurona.activacion())"
   ]
  },
  {
   "cell_type": "code",
   "execution_count": 8,
   "id": "af1b3d6e",
   "metadata": {},
   "outputs": [
    {
     "name": "stdout",
     "output_type": "stream",
     "text": [
      "1\n"
     ]
    }
   ],
   "source": [
    "neurona = NeuronaMcCullochPittsSencilla(0.5, 1, 2, 2)\n",
    "# tiempo libre (0), motivacion (0), suscripcion (1)\n",
    "print(neurona.activacion(0, 0, 1))"
   ]
  }
 ],
 "metadata": {
  "kernelspec": {
   "display_name": "DL2025",
   "language": "python",
   "name": "python3"
  },
  "language_info": {
   "codemirror_mode": {
    "name": "ipython",
    "version": 3
   },
   "file_extension": ".py",
   "mimetype": "text/x-python",
   "name": "python",
   "nbconvert_exporter": "python",
   "pygments_lexer": "ipython3",
   "version": "3.13.5"
  }
 },
 "nbformat": 4,
 "nbformat_minor": 5
}
